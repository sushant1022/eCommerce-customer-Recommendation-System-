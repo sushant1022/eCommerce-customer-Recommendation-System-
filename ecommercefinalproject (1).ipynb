{
 "cells": [
  {
   "cell_type": "markdown",
   "id": "19b5d67d-7003-4a62-8fa8-957331294374",
   "metadata": {},
   "source": [
    "# eCommerce Customer Recommendation System "
   ]
  },
  {
   "cell_type": "markdown",
   "id": "75c150cd-c1e4-4f52-a4e4-0c21e785bf6f",
   "metadata": {},
   "source": [
    "# problem statement \n",
    "- Have you ever wondered how an e-commerce platform comes with suggestions that you need? You might have seen ads popping up on your social media accounts related to the searches you have made. This all is done through the customer recommendation system.\r\n",
    "You can develop your very own customer recommendation system. To start with, you can use your browsing history. Both behavioral data and implicit data is required. There is considerable scope for recommendation system developers in the tech world. If you crack this and learn how to upskill the way to come up with a better version of the E-commerce customer recommendation system, then there is a better chance for you to end up having a career in a renowned company."
   ]
  },
  {
   "cell_type": "markdown",
   "id": "d43afdcc-fc8b-4b74-be8e-f47522fb5b3a",
   "metadata": {},
   "source": [
    "# solution "
   ]
  },
  {
   "cell_type": "code",
   "execution_count": 18,
   "id": "5de8e5c7-665e-4ffa-8ccb-d8db3b9d1ce0",
   "metadata": {},
   "outputs": [
    {
     "name": "stdout",
     "output_type": "stream",
     "text": [
      "Cosine Similarity Recommendations: Index([10, 9, 8, 7, 6], dtype='int64', name='Product_id')\n",
      "NMF Recommendations: Index([10, 3, 5, 9, 8], dtype='int64', name='Product_id')\n"
     ]
    }
   ],
   "source": [
    "import pandas as pd\n",
    "from sklearn.metrics.pairwise import cosine_similarity\n",
    "from sklearn.feature_extraction.text import TfidfVectorizer\n",
    "from sklearn.decomposition import NMF\n",
    "import numpy as np\n",
    "\n",
    "# Load the data\n",
    "products = pd.read_csv('products.csv')\n",
    "customers = pd.read_csv('customer_id.csv')\n",
    "purchases = pd.read_csv('purchase .csv')\n",
    "\n",
    "# Handle NaN values in the purchases data\n",
    "\n",
    "purchases.fillna(0, inplace=True)\n",
    "\n",
    "# Create a TF-IDF vectorizer to convert product descriptions into vectors\n",
    "vectorizer = TfidfVectorizer()\n",
    "product_vectors = vectorizer.fit_transform(products['Description'].fillna(''))\n",
    "\n",
    "# Create a matrix to store the customer-product interactions\n",
    "customer_product_matrix = pd.pivot_table(purchases, values='Quantity', index='customer_id', columns='Product_id', fill_value=0)\n",
    "\n",
    "# Ensure there are no NaN values in the customer-product matrix\n",
    "customer_product_matrix.fillna(0, inplace=True)\n",
    "\n",
    "# Compute the similarity between customers using cosine similarity\n",
    "customer_similarity = cosine_similarity(customer_product_matrix)\n",
    "\n",
    "# Define a function to get the top N recommendations for a customer\n",
    "def get_recommendations(customer_id, n):\n",
    "    # Ensure the customer ID exists in the customer_product_matrix\n",
    "    if customer_id not in customer_product_matrix.index:\n",
    "        raise ValueError(f\"Customer ID {customer_id} not found in customer data.\")\n",
    "    \n",
    "    # Get the index of the customer in the customer_product_matrix\n",
    "    customer_idx = customer_product_matrix.index.get_loc(customer_id)\n",
    "    \n",
    "    # Get the similarity scores for the customer\n",
    "    scores = customer_similarity[customer_idx]\n",
    "    \n",
    "    # Handle NaN values in the similarity scores\n",
    "    scores = np.nan_to_num(scores)\n",
    "    \n",
    "    # Get the top N similar customers (excluding the customer itself)\n",
    "    similar_customers = scores.argsort()[-(n+1):-1][::-1]\n",
    "    \n",
    "    # Get the products purchased by the similar customers\n",
    "    similar_products = customer_product_matrix.iloc[similar_customers].sum(axis=0)\n",
    "    \n",
    "    # Get the top N recommended products\n",
    "    recommended_products = similar_products.argsort()[-n:][::-1]\n",
    "    \n",
    "    return recommended_products.index\n",
    "\n",
    "# Define a function to get the top N recommendations for a customer using NMF\n",
    "def get_recommendations_nmf(customer_id, n):\n",
    "    # Ensure the customer ID exists in the customer_product_matrix\n",
    "    if customer_id not in customer_product_matrix.index:\n",
    "        raise ValueError(f\"Customer ID {customer_id} not found in customer data.\")\n",
    "    \n",
    "    # Create an NMF model with 10 components\n",
    "    nmf = NMF(n_components=10, random_state=1)\n",
    "    nmf_vectors = nmf.fit_transform(customer_product_matrix)\n",
    "    \n",
    "    # Get the index of the customer in the customer_product_matrix\n",
    "    customer_idx = customer_product_matrix.index.get_loc(customer_id)\n",
    "    \n",
    "    # Handle NaN values in the NMF vectors\n",
    "    nmf_vectors = np.nan_to_num(nmf_vectors)\n",
    "    \n",
    "    # Get the top N recommended products for the customer\n",
    "    recommended_products = nmf_vectors[customer_idx].argsort()[-n:][::-1]\n",
    "    \n",
    "    return customer_product_matrix.columns[recommended_products]\n",
    "\n",
    "# Get the top 5 recommendations for customer 123 using cosine similarity\n",
    "try:\n",
    "    recommended_products = get_recommendations(123, 5)\n",
    "    print(\"Cosine Similarity Recommendations:\", recommended_products)\n",
    "except ValueError as e:\n",
    "    print(e)\n",
    "\n",
    "# Get the top 5 recommendations for customer 123 using NMF\n",
    "try:\n",
    "    recommended_products_nmf = get_recommendations_nmf(123, 5)\n",
    "    print(\"NMF Recommendations:\", recommended_products_nmf)\n",
    "except ValueError as e:\n",
    "    print(e)\n"
   ]
  },
  {
   "cell_type": "code",
   "execution_count": null,
   "id": "dd06aa5a-ded2-481b-8430-dfeaad54faa4",
   "metadata": {},
   "outputs": [],
   "source": []
  }
 ],
 "metadata": {
  "kernelspec": {
   "display_name": "Python 3 (ipykernel)",
   "language": "python",
   "name": "python3"
  },
  "language_info": {
   "codemirror_mode": {
    "name": "ipython",
    "version": 3
   },
   "file_extension": ".py",
   "mimetype": "text/x-python",
   "name": "python",
   "nbconvert_exporter": "python",
   "pygments_lexer": "ipython3",
   "version": "3.11.7"
  }
 },
 "nbformat": 4,
 "nbformat_minor": 5
}
